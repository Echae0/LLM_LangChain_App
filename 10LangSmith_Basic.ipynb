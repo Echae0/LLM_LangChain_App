{
 "cells": [
  {
   "cell_type": "code",
   "execution_count": 1,
   "id": "85e7d07c",
   "metadata": {},
   "outputs": [],
   "source": [
    "import os\n",
    "from dotenv import load_dotenv\n",
    "from langchain_openai import ChatOpenAI\n",
    "from langchain_core.prompts import (\n",
    "    ChatPromptTemplate,\n",
    "    SystemMessagePromptTemplate,\n",
    "    HumanMessagePromptTemplate,\n",
    ")\n",
    "from langsmith import traceable\n",
    "\n",
    "# LangSmith API Key 설정\n",
    "os.environ[\"LANGSMITH_TRACING\"] = os.getenv(\"LANGSMITH_TRACING\")  # LangSmith 활성화\n",
    "os.environ[\"LANGSMITH_API_KEY\"] = os.getenv(\"LANGSMITH_API_KEY\")  # API Key 불러오기\n",
    "os.environ[\"LANGSMITH_PROJECT\"] = os.getenv(\"LANGSMITH_PROJECT\")   # 프로젝트 이름 설정\n",
    "os.environ[\"LANGSMITH_ENDPOINT\"] = os.getenv(\"LANGSMITH_ENDPOINT\")   # EndPoint 설정"
   ]
  },
  {
   "cell_type": "code",
   "execution_count": 2,
   "id": "88e2505d",
   "metadata": {},
   "outputs": [
    {
     "name": "stdout",
     "output_type": "stream",
     "text": [
      "\n",
      "🔹 [AI 답변]:\n",
      "LangGraph와 LangChain은 모두 언어 모델을 기반으로 하는 AI 기술이지만, 다음과 같은 차이점이 있습니다.\n",
      "\n",
      "1. LangGraph: LangGraph는 그래프 형태로 데이터를 표현하고 처리하는 언어 모델입니다. 이 그래프는 단어나 문장의 상호 관계를 파악하여 텍스트를 이해하거나 생성하는 데 사용됩니다. LangGraph는 보다 복잡한 정보를 처리할 수 있고, 문맥을 더 잘 이해할 수 있는 장점이 있습니다.\n",
      "\n",
      "2. LangChain: LangChain은 연쇄적인 방식으로 데이터를 처리하는 언어 모델입니다. 각 단계에서는 이전 단계의 결과를 기반으로 다음 단계를 수행합니다. LangChain은 단계적인 처리를 통해 텍스트를 생성하거나 분석하는 데 사용됩니다. LangChain은 일련의 단계를 따라가면서 데이터를 처리하기 때문에 LangGraph보다 간단한 모델로 사용될 수 있습니다.\n",
      "\n",
      "요약하면, LangGraph은 그래프 형태로 데이터를 처리하는 언어 모델이며, LangChain은 연쇄적인 방식으로 데이터를 처리하는 언어 모델입니다.\n"
     ]
    }
   ],
   "source": [
    "# LLM 모델 설정 (OpenAI 사용)\n",
    "llm = ChatOpenAI(model=\"gpt-3.5-turbo\")\n",
    "\n",
    "# LangSmith로 실행 추적\n",
    "@traceable(run_type=\"chain\", name=\"Simple_Chain\")\n",
    "def ask_question(question: str):\n",
    "\n",
    "    # 개별 메시지 템플릿 정의\n",
    "    system_message = SystemMessagePromptTemplate.from_template(\n",
    "        \"당신은 유용한 AI 비서입니다.\"\n",
    "    )\n",
    "    user_message = HumanMessagePromptTemplate.from_template(\n",
    "        \"{question}\"\n",
    "    )\n",
    "\n",
    "    chat_prompt = ChatPromptTemplate.from_messages([\n",
    "        system_message,\n",
    "        user_message,\n",
    "    ])\n",
    "    \n",
    "    messages = chat_prompt.format_messages(question=question)\n",
    "    response = llm.invoke(messages)\n",
    "\n",
    "    return response.content\n",
    "\n",
    "# 테스트 실행\n",
    "question = \"LangGraph와 LangChain의 차이점은 무엇인가요?\"\n",
    "answer = ask_question(question)\n",
    "\n",
    "# 결과 출력\n",
    "print(\"\\n🔹 [AI 답변]:\")\n",
    "print(answer)"
   ]
  }
 ],
 "metadata": {
  "kernelspec": {
   "display_name": "langchain-basic-kGdHTiMZ-py3.12",
   "language": "python",
   "name": "python3"
  },
  "language_info": {
   "codemirror_mode": {
    "name": "ipython",
    "version": 3
   },
   "file_extension": ".py",
   "mimetype": "text/x-python",
   "name": "python",
   "nbconvert_exporter": "python",
   "pygments_lexer": "ipython3",
   "version": "3.12.7"
  }
 },
 "nbformat": 4,
 "nbformat_minor": 5
}
