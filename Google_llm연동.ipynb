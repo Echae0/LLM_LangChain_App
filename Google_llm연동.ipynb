{
 "cells": [
  {
   "cell_type": "code",
   "execution_count": 1,
   "id": "223d94c0",
   "metadata": {},
   "outputs": [
    {
     "name": "stdout",
     "output_type": "stream",
     "text": [
      "AI\n"
     ]
    }
   ],
   "source": [
    "import os\n",
    "from dotenv import load_dotenv\n",
    "\n",
    "load_dotenv()\n",
    "GOOGLE_API_KEY = os.getenv(\"GOOGLE_API_KEY\")\n",
    "print(GOOGLE_API_KEY[:2])"
   ]
  },
  {
   "cell_type": "code",
   "execution_count": 2,
   "id": "d4e30998",
   "metadata": {},
   "outputs": [
    {
     "name": "stdout",
     "output_type": "stream",
     "text": [
      " Google Gemini Response:\n",
      "LangChain은 대규모 언어 모델(LLM)을 응용 프로그램에 통합하기 위한 프레임워크입니다.  단순히 LLM을 호출하는 것 이상으로,  다양한 기능을 제공하여 LLM 기반 애플리케이션 개발을 더욱 효율적이고 강력하게 만들어줍니다.  핵심 기능은 다음과 같습니다.\n",
      "\n",
      "* **모듈성:** LangChain은 LLM, 프로세스, 메모리 등을 모듈로 분리하여 개발자가 각 구성 요소를 독립적으로 선택하고 조합할 수 있도록 합니다.  다양한 LLM(OpenAI, Hugging Face 등)과 데이터 소스를 쉽게 통합할 수 있습니다.\n",
      "\n",
      "* **체인(Chains):** 여러 LLM 호출이나 다른 작업들을 순차적으로 또는 병렬적으로 연결하여 복잡한 작업을 수행할 수 있도록 합니다.  예를 들어, 문서 요약, 질문 답변, 창작 등의 작업을 여러 단계로 나누어 처리할 수 있습니다.\n",
      "\n",
      "* **인덱싱(Indexing):**  대량의 문서나 데이터를 효율적으로 처리하고 LLM이 관련 정보에 접근할 수 있도록 인덱싱 기능을 제공합니다.  이를 통해 LLM은 특정 문서나 데이터셋을 기반으로 더욱 정확하고 유용한 응답을 생성할 수 있습니다.\n",
      "\n",
      "* **메모리(Memory):**  이전 대화의 내용을 기억하여 컨텍스트를 유지하고 일관성 있는 응답을 생성할 수 있도록 합니다.  이는 챗봇이나 대화형 에이전트 개발에 필수적인 기능입니다.\n",
      "\n",
      "* **에이전트(Agents):**  LLM이 외부 도구나 API를 활용하여 작업을 수행할 수 있도록 지원합니다.  예를 들어, 웹 검색, 계산, 데이터베이스 쿼리 등을 LLM이 직접 수행할 수 있도록 합니다.\n",
      "\n",
      "* **다양한 LLM 지원:** OpenAI, Hugging Face Hub,  자체적으로 구축한 LLM 등 다양한 LLM을 지원합니다.\n",
      "\n",
      "**LangChain의 장점:**\n",
      "\n",
      "* **개발 속도 향상:**  모듈식 설계와 다양한 기능을 통해 LLM 기반 애플리케이션 개발 시간을 단축할 수 있습니다.\n",
      "* **유연성:**  다양한 LLM과 데이터 소스를 통합하고, 필요에 따라 기능을 확장할 수 있습니다.\n",
      "* **재사용성:**  개발된 모듈과 체인을 다른 프로젝트에 재사용할 수 있습니다.\n",
      "* **확장성:**  대규모 데이터와 복잡한 작업을 처리할 수 있도록 설계되었습니다.\n",
      "\n",
      "\n",
      "**LangChain의 단점:**\n",
      "\n",
      "* **학습 곡선:**  모듈과 기능이 다양하기 때문에 처음 사용하는 경우 학습 곡선이 다소 가파를 수 있습니다.\n",
      "* **의존성:**  LLM과 다른 외부 서비스에 의존하기 때문에, 해당 서비스의 가용성과 비용에 영향을 받을 수 있습니다.\n",
      "\n",
      "\n",
      "결론적으로, LangChain은 LLM을 활용한 애플리케이션 개발을 위한 강력하고 유연한 프레임워크입니다.  복잡한 LLM 기반 시스템을 구축하려는 개발자에게 유용한 도구이지만,  사용 전에 충분한 학습이 필요할 수 있습니다.\n"
     ]
    }
   ],
   "source": [
    "from langchain_google_genai import ChatGoogleGenerativeAI\n",
    "from langchain_core.prompts import ChatPromptTemplate\n",
    "    \n",
    "# API 키 설정\n",
    "# os.environ[\"GOOGLE_API_KEY\"] = \"your-google-api-key\"\n",
    "\n",
    "# 모델 초기화\n",
    "llm = ChatGoogleGenerativeAI(\n",
    "    model=\"gemini-1.5-flash\",  # 또는 \"gemini-pro-vision\"\n",
    "    temperature=0.3    \n",
    ")\n",
    "\n",
    "# 프롬프트 설정\n",
    "prompt = ChatPromptTemplate.from_messages([\n",
    "    (\"system\", \"당신은 AI 전문가입니다다.\"),\n",
    "    (\"human\", \"{topic}은 무엇인가요?\")\n",
    "])\n",
    "\n",
    "# 체인 실행\n",
    "chain = prompt | llm\n",
    "response = chain.invoke({\"topic\": \"LangChain\"})\n",
    "\n",
    "print(\" Google Gemini Response:\")\n",
    "print(response.content)"
   ]
  }
 ],
 "metadata": {
  "kernelspec": {
   "display_name": "langchain-basic-kGdHTiMZ-py3.12",
   "language": "python",
   "name": "python3"
  },
  "language_info": {
   "codemirror_mode": {
    "name": "ipython",
    "version": 3
   },
   "file_extension": ".py",
   "mimetype": "text/x-python",
   "name": "python",
   "nbconvert_exporter": "python",
   "pygments_lexer": "ipython3",
   "version": "3.12.7"
  }
 },
 "nbformat": 4,
 "nbformat_minor": 5
}
