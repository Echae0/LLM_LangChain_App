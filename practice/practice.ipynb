{
 "cells": [
  {
   "cell_type": "markdown",
   "id": "489ef0aa",
   "metadata": {},
   "source": [
    "##### 문제 1-1 : 기본 체인 만들기 - AI 요리사"
   ]
  },
  {
   "cell_type": "code",
   "execution_count": 1,
   "id": "19a44f7b",
   "metadata": {},
   "outputs": [],
   "source": [
    "import os\n",
    "from dotenv import load_dotenv\n",
    "from langchain_core.prompts import ChatPromptTemplate\n",
    "from langchain_openai import ChatOpenAI \n",
    "\n",
    "\n",
    "load_dotenv()\n",
    "OPENAI_API_KEY = os.getenv(\"OPENAI_API_KEY\")"
   ]
  },
  {
   "cell_type": "code",
   "execution_count": 2,
   "id": "2eab0a26",
   "metadata": {},
   "outputs": [
    {
     "name": "stdout",
     "output_type": "stream",
     "text": [
      "client=<openai.resources.chat.completions.completions.Completions object at 0x000001A64EC46DB0> async_client=<openai.resources.chat.completions.completions.AsyncCompletions object at 0x000001A64F142750> root_client=<openai.OpenAI object at 0x000001A64EBA44D0> root_async_client=<openai.AsyncOpenAI object at 0x000001A64ED35340> model_name='meta-llama/llama-4-scout-17b-16e-instruct' temperature=0.7 model_kwargs={} openai_api_key=SecretStr('**********') openai_api_base='https://api.groq.com/openai/v1'\n"
     ]
    }
   ],
   "source": [
    "# Groq API를 사용하는 ChatOpenAI 인스턴스 생성\n",
    "llm = ChatOpenAI(\n",
    "    #api_key=OPENAI_API_KEY,\n",
    "    base_url=\"https://api.groq.com/openai/v1\",  # Groq API 엔드포인트\n",
    "    model=\"meta-llama/llama-4-scout-17b-16e-instruct\",\n",
    "    # model=\"mistral-saba-24b\",\n",
    "    temperature=0.7\n",
    ")\n",
    "print(llm)"
   ]
  },
  {
   "cell_type": "code",
   "execution_count": 9,
   "id": "d56ec2d9",
   "metadata": {},
   "outputs": [
    {
     "data": {
      "text/plain": [
       "PromptTemplate(input_variables=['input'], input_types={}, partial_variables={}, template='\\n    당신은 AI 요리사입니다. \\n    {input}를 사용해서 만들 수 있는 요리를 조리법과 함께 추천해주세요. \\n    ')"
      ]
     },
     "execution_count": 9,
     "metadata": {},
     "output_type": "execute_result"
    }
   ],
   "source": [
    "from langchain_core.prompts import PromptTemplate\n",
    "\n",
    "prompt = PromptTemplate.from_template(\n",
    "    \"\"\"\n",
    "    당신은 AI 요리사입니다. \n",
    "    {input}를 사용해서 만들 수 있는 요리를 조리법과 함께 추천해주세요. \n",
    "    \"\"\")\n",
    "prompt"
   ]
  },
  {
   "cell_type": "code",
   "execution_count": 12,
   "id": "10079190",
   "metadata": {},
   "outputs": [
    {
     "name": "stdout",
     "output_type": "stream",
     "text": [
      "<class 'langchain_core.runnables.base.RunnableSequence'>\n"
     ]
    }
   ],
   "source": [
    "from langchain_core.output_parsers import StrOutputParser\n",
    "output_parser = StrOutputParser()\n",
    "\n",
    "chain = prompt | llm | output_parser\n",
    "print(type(chain))"
   ]
  },
  {
   "cell_type": "code",
   "execution_count": 16,
   "id": "69f9f928",
   "metadata": {},
   "outputs": [
    {
     "name": "stdout",
     "output_type": "stream",
     "text": [
      "<class 'str'>\n",
      "{'계란, 밥, 김치'}를 사용해서 만들 수 있는 요리로는 **김치 계란밥**이 있습니다.\n",
      "\n",
      "### **김치 계란밥**\n",
      "\n",
      "**재료**: \n",
      "\n",
      "*   밥 1공기\n",
      "*   김치 100g (잘게 썬 것)\n",
      "*   계란 1개\n",
      "*   참기름 1티스푼\n",
      "*   소금 1/2 티스푼\n",
      "*   후추 1/4 티스푼\n",
      "\n",
      "**조리법**:\n",
      "\n",
      "1.  밥을 준비합니다. 밥은 한 공기 정도 준비해 주세요.\n",
      "2.  김치를 준비합니다. 김치를 잘게 썰어주세요. \n",
      "3.  팬에 참기름을 두르고 썰어 놓은 김치를 넣고 볶습니다. 김치가 약간 탄 느낌이 나면 소금과 후추로 간을 해줍니다.\n",
      "4.  계란을 풀어줍니다. 계란을 잘 풀어서 준비해 주세요.\n",
      "5.  김치 위에 계란물을 붓고 스크램블 에그처럼 만들어줍니다. 계란이 거의 익으면 불을 끄세요.\n",
      "6.  밥에 만들어 놓은 김치 계란 혼합물을 넣고 잘 섞어줍니다.\n",
      "\n",
      "**팁**:\n",
      "\n",
      "*   간을 조절하고 싶으면 소금과 후추를 추가적으로 넣어주세요.\n",
      "*   매운맛을 원하면 더 매운 김치를 사용하거나, 청양고추를 추가할 수 있습니다.\n",
      "\n",
      "이 요리는 간단하지만 맛이 좋습니다. 계란과 김치가 밥과 잘 어울려서 아주 만족스러운 한 끼 식사가 됩니다.\n"
     ]
    }
   ],
   "source": [
    "# chain 호출\n",
    "try:\n",
    "    result = chain.invoke({\"계란, 밥, 김치\"})\n",
    "    print(type(result))\n",
    "    print(result)\n",
    "except Exception as e:\n",
    "    print(f\"오류 발생: {e}\")"
   ]
  },
  {
   "cell_type": "markdown",
   "id": "33ac616c",
   "metadata": {},
   "source": [
    "##### 문제 1-2 : 2단계 체인 만들기 - 영화 추천 시스템 "
   ]
  },
  {
   "cell_type": "code",
   "execution_count": 28,
   "id": "6d1bedd2",
   "metadata": {},
   "outputs": [],
   "source": [
    "from langchain_core.prompts import ChatPromptTemplate\n",
    "from langchain_openai import ChatOpenAI\n",
    "from langchain_core.output_parsers import StrOutputParser\n",
    "\n",
    "# Step 1: 사용자가 입력한 장르에 따라 영화 1편 추천\n",
    "prompt1 = ChatPromptTemplate.from_template(\"{genre} 장르에서 추천할 만한 한국 영화를 한 편 알려주세요.\")\n",
    "\n",
    "# Step 2: 추천된 영화의 3줄 줄거리를 요약\n",
    "prompt2 = ChatPromptTemplate.from_template(\n",
    "    \"\"\"\n",
    "    {movie} 추전한 영화의 제목과 그 영화의 정보(감독, 등장인물)을 설명해주세요. \n",
    "    줄을 바꾸어서 영화의 줄거리를 3문장을 세줄로 요약해 주세요.\n",
    "    \"\"\")\n",
    "\n",
    "# OpenAI 모델 사용\n",
    "llm = ChatOpenAI(\n",
    "    #api_key=OPENAI_API_KEY,\n",
    "    base_url=\"https://api.groq.com/openai/v1\",  # Groq API 엔드포인트\n",
    "    model=\"meta-llama/llama-4-scout-17b-16e-instruct\",\n",
    "    temperature=0.7\n",
    ")\n",
    "\n",
    "# 체인 1: 영화 추천 (입력: 장르 → 출력: 영화 제목)\n",
    "chain1 = prompt1 | llm | StrOutputParser()"
   ]
  },
  {
   "cell_type": "code",
   "execution_count": 29,
   "id": "b78ed7ec",
   "metadata": {},
   "outputs": [
    {
     "name": "stdout",
     "output_type": "stream",
     "text": [
      "**영화 제목:** 올드보이(2003)\n",
      "\n",
      "**영화 정보:**\n",
      "- **감독:** 박찬욱\n",
      "- **출연:** 최민식, 유지태, 강혜정\n",
      "\n",
      "**영화 줄거리 요약:**\n",
      "\n",
      "주인공 오대수(최민식)는 자신에게 일어난 모든 일에 대해 복수를 하기 위해 노력합니다. \n",
      "그는 자신의 과거와 현재를 되돌아보며, 자신을 가둔 사람의 정체를 찾기 시작합니다.\n",
      "오대수는 복수를 통해 과거의 트라우마를 극복하려 하지만, 그 과정에서 예상치 못한 진실을 마주하게 됩니다.\n"
     ]
    }
   ],
   "source": [
    "# 체인 2: 줄거리 요약 (입력: 영화 제목 → 출력: 줄거리)\n",
    "try:\n",
    "    chain2 = (\n",
    "        {\"movie\": chain1}  # chain1의 출력을 movie 입력 변수로 전달\n",
    "        | prompt2\n",
    "        | llm\n",
    "        | StrOutputParser()\n",
    "    )\n",
    "\n",
    "    # 실행: \"SF\" 장르의 영화 추천 및 줄거리 요약\n",
    "    response = chain2.invoke({\"genre\": \"액션\"})\n",
    "    print(response)  \n",
    "except Exception as e:\n",
    "    print(f\"오류 발생: {e}\")"
   ]
  },
  {
   "cell_type": "code",
   "execution_count": 31,
   "id": "42ab9729",
   "metadata": {},
   "outputs": [
    {
     "name": "stdout",
     "output_type": "stream",
     "text": [
      "**영화 추천**\n",
      "\n",
      "*   **영화 제목:** 존 윅\n",
      "*   **영화 정보:** \n",
      "    *   감독: 채드 스태헬스키\n",
      "    *   등장인물: 키아누 리브스, 마이클 비스프, 알피 앨런, 윌 새미스, 브리짓 무나한\n",
      "\n",
      "*   **영화 줄거리:** \n",
      "    존 윅은 은퇴한 암살자입니다. \n",
      "    그러나 그의 은퇴는 오래가지 못하는데, 고인이 된 아내가 남긴 마지막 선물인 '68년형 머스탱'을 훔친 이오간이라는 소년과 그의 패거리들이 존 윅의 집에 찾아오면서부터입니다. \n",
      "    존 윅은 이오간과 그의 패거리들을 상대로 싸움을 시작하고, 이 싸움은 점점 더 큰 조직과 연루되면서 그의 과거가 다시 열리게 됩니다.\n"
     ]
    }
   ],
   "source": [
    "from langchain_core.prompts import (\n",
    "    ChatPromptTemplate,\n",
    "    SystemMessagePromptTemplate,\n",
    "    HumanMessagePromptTemplate\n",
    ")\n",
    "from langchain_openai import ChatOpenAI\n",
    "\n",
    "# 개별 메시지 템플릿 정의\n",
    "system_message = SystemMessagePromptTemplate.from_template(\n",
    "    \"\"\"\n",
    "    당신은 영화 전문가입니다. \n",
    "    {genre} 에 맞는 영화를 영화의 제목과 영화의 정보(감독, 등장인물)을 설명하고,\n",
    "    줄을 바꾸어 영화의 줄거리를 3문장으로 요약해주세요.\n",
    "    \"\"\"\n",
    ")\n",
    "human_message = HumanMessagePromptTemplate.from_template(\n",
    "    \"{question}\"\n",
    ")\n",
    "\n",
    "# ChatPromptTemplate로 메시지들을 묶기\n",
    "chat_prompt = ChatPromptTemplate.from_messages([\n",
    "    system_message,\n",
    "    human_message\n",
    "])\n",
    "\n",
    "# 메시지 생성\n",
    "messages = chat_prompt.format_messages(genre=\"액션\", \n",
    "                                       question=\"영화를 추천해주세요.\")\n",
    "\n",
    "# LLM 호출\n",
    "llm = ChatOpenAI(\n",
    "    #api_key=OPENAI_API_KEY,\n",
    "    base_url=\"https://api.groq.com/openai/v1\",  # Groq API 엔드포인트\n",
    "    model=\"meta-llama/llama-4-scout-17b-16e-instruct\",\n",
    "    temperature=0.7\n",
    ")\n",
    "response = llm.invoke(messages)\n",
    "\n",
    "# 결과 출력\n",
    "print(response.content)"
   ]
  },
  {
   "cell_type": "markdown",
   "id": "adbb56e2",
   "metadata": {},
   "source": [
    "##### 문제 1-3 : FewShotPromptTemplate과 시스템 메시지 활용 "
   ]
  },
  {
   "cell_type": "code",
   "execution_count": null,
   "id": "20a6946c",
   "metadata": {},
   "outputs": [],
   "source": []
  }
 ],
 "metadata": {
  "kernelspec": {
   "display_name": "langchain-basic-kGdHTiMZ-py3.12",
   "language": "python",
   "name": "python3"
  },
  "language_info": {
   "codemirror_mode": {
    "name": "ipython",
    "version": 3
   },
   "file_extension": ".py",
   "mimetype": "text/x-python",
   "name": "python",
   "nbconvert_exporter": "python",
   "pygments_lexer": "ipython3",
   "version": "3.12.7"
  }
 },
 "nbformat": 4,
 "nbformat_minor": 5
}
