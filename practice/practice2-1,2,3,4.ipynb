{
 "cells": [
  {
   "cell_type": "markdown",
   "id": "eb81169c",
   "metadata": {},
   "source": [
    "##### 문제 2-1 : 콤마 구분 리스트 파서 활용\n",
    "* 사용자가 관심있는 분야(예: \"음식\", \"스포츠\", \"영화\" 등)를 입력하면, 해당 분야와 관련된 한국의 유명한 장소나 활동 5가지를 콤마로 구분된 리스트로 출력하는 프로그램을 작성하세요."
   ]
  },
  {
   "cell_type": "code",
   "execution_count": 66,
   "id": "d37dd2fd",
   "metadata": {},
   "outputs": [
    {
     "name": "stdout",
     "output_type": "stream",
     "text": [
      "{'format_instructions': 'Your response should be a list of comma separated '\n",
      "                        'values, eg: `foo, bar, baz` or `foo,bar,baz`'}\n"
     ]
    }
   ],
   "source": [
    "from langchain_core.output_parsers import CommaSeparatedListOutputParser\n",
    "from langchain_core.prompts import PromptTemplate\n",
    "from langchain_openai import ChatOpenAI\n",
    "import csv\n",
    "from pprint import pprint\n",
    "\n",
    "# 콤마로 구분된 리스트 출력 파서 초기화\n",
    "output_parser = CommaSeparatedListOutputParser()\n",
    "\n",
    "# 출력 형식 지침 가져오기\n",
    "format_instructions = output_parser.get_format_instructions()\n",
    "\n",
    "# 프롬프트 템플릿 설정\n",
    "prompt = PromptTemplate(\n",
    "        template=\n",
    "        \"\"\"\n",
    "        {subject}와 관련된 한국의 유명한 장소나 활동 5가지를 콤마로 구분된 리스트로 나열해주세요.\n",
    "        각 항목은 특정 장소나 활동이나 음식을 나타내는 구체적인 이름이어야 합니다.\n",
    "        \n",
    "        예시:\n",
    "        입력: \"음식\"\n",
    "        출력: 명동 칼국수, 부산 돼지국밥 ...\n",
    "\n",
    "        입력: \"스포츠\"\n",
    "        출력: 잠실 야구장, 서울 월드컵 경기장 ...\n",
    "\n",
    "        {format_instructions}\"\"\",\n",
    "    input_variables=[\"subject\"],\n",
    "    partial_variables={\"format_instructions\": format_instructions},\n",
    ")\n",
    "pprint(prompt.partial_variables)"
   ]
  },
  {
   "cell_type": "code",
   "execution_count": 67,
   "id": "8a55fbda",
   "metadata": {},
   "outputs": [
    {
     "name": "stdout",
     "output_type": "stream",
     "text": [
      "음식 관련 목록:\n",
      "['종로 비빔밥', '광화문 닭볶음탕', '부산 개미집', '전주 한옥마을 순두부찌개', '대구 서문시장 치킨']\n"
     ]
    }
   ],
   "source": [
    "# 모델 설정\n",
    "model = ChatOpenAI(\n",
    "    base_url=\"https://api.groq.com/openai/v1\",  # Groq API 엔드포인트\n",
    "    model=\"meta-llama/llama-4-scout-17b-16e-instruct\",\n",
    "    temperature=0.2\n",
    ")\n",
    "\n",
    "# 프롬프트, 모델, 출력 파서를 연결하여 체인 생성\n",
    "chain = prompt | model | output_parser\n",
    "\n",
    "# \"음식\"에 대한 체인 호출 실행\n",
    "result = chain.invoke({\"subject\": \"음식\"})\n",
    "\n",
    "# 쉼표로 구분된 리스트 출력\n",
    "print(\"음식 관련 목록:\")\n",
    "print(result)"
   ]
  },
  {
   "cell_type": "code",
   "execution_count": null,
   "id": "68f575a9",
   "metadata": {},
   "outputs": [
    {
     "name": "stdout",
     "output_type": "stream",
     "text": [
      "영화 관련 목록:\n",
      "['부산 영화의 전당', 'CGV 홍대', '롯데시네마 월드몰', '한국 영화 박물관', '충무로 영화 거리']\n"
     ]
    }
   ],
   "source": [
    "# \"영화\"에 대한 체인 호출 실행\n",
    "result = chain.invoke({\"subject\": \"영화\"})\n",
    "\n",
    "# 쉼표로 구분된 리스트 출력\n",
    "print(\"영화 관련 목록:\")\n",
    "print(result)"
   ]
  },
  {
   "cell_type": "code",
   "execution_count": null,
   "id": "dccad5c6",
   "metadata": {},
   "outputs": [
    {
     "name": "stdout",
     "output_type": "stream",
     "text": [
      "스포츠 관련 목록:\n",
      "['잠실 야구장', '서울 월드컵 경기장', '부산 광안리 해수욕장(서핑)', '강원도 평창 스키장', '인천 영종도 골프장']\n"
     ]
    }
   ],
   "source": [
    "# \"스포츠\"에 대한 체인 호출 실행\n",
    "result = chain.invoke({\"subject\": \"스포츠츠\"})\n",
    "\n",
    "# 쉼표로 구분된 리스트 출력\n",
    "print(\"스포츠 관련 목록:\")\n",
    "print(result)"
   ]
  },
  {
   "cell_type": "markdown",
   "id": "a136bc5e",
   "metadata": {},
   "source": [
    "##### 문제 2-2 : 영화 리뷰 감정 분석기\n",
    "* 영화 리뷰 텍스트를 입력받아 감정을 \"긍정\", \"부정\", \"보통\" 중 하나로 분류하는 시스템을 만드세요."
   ]
  },
  {
   "cell_type": "code",
   "execution_count": null,
   "id": "6ec9969b",
   "metadata": {},
   "outputs": [],
   "source": [
    "from langchain_openai import ChatOpenAI\n",
    "from langchain_core.prompts import ChatPromptTemplate\n",
    "from langchain.output_parsers import EnumOutputParser, OutputFixingParser\n",
    "from langchain.schema import OutputParserException\n",
    "\n",
    "from enum import Enum\n",
    "from pprint import pprint\n",
    "\n",
    "# 감정 클래스 정의 (Enum)\n",
    "class Sentiment(str, Enum):\n",
    "    POSITIVE = \"긍정\"\n",
    "    NEGATIVE = \"부정\"\n",
    "    NEUTRAL = \"중립\"\n",
    "\n",
    "# EnumOutputParser 초기화\n",
    "enumParser = EnumOutputParser(enum=Sentiment)\n",
    "format_instructions = enumParser.get_format_instructions()\n",
    "\n",
    "print(\"감정 분류 출력 형식:\")\n",
    "print(format_instructions)\n",
    "\n",
    "# 프롬프트 템플릿\n",
    "template = \"\"\"\n",
    "당신은 텍스트 감정 분석 전문가입니다.\n",
    "다음 텍스트의 감정을 분석하고, 반드시 아래 세 가지 중 하나의 단어로만 답변하세요.\n",
    "\n",
    "텍스트: \"{text}\"\n",
    "\n",
    "{format_instructions}\n",
    "\n",
    "중요 규칙:\n",
    "1. 반드시 \"긍정\", \"부정\", \"중립\" 중 하나의 단어만 출력하세요\n",
    "2. 다른 설명이나 부가 설명을 추가하지 마세요\n",
    "3. 이모지나 특수문자도 포함하지 마세요\n",
    "4. 오직 하나의 단어만 출력하세요\n",
    "\n",
    "답변:\"\"\"\n",
    "\n",
    "prompt = ChatPromptTemplate.from_template(template)\n",
    "prompt = prompt.partial(format_instructions=format_instructions)   \n",
    "print(prompt)"
   ]
  },
  {
   "cell_type": "code",
   "execution_count": null,
   "id": "40797653",
   "metadata": {},
   "outputs": [],
   "source": [
    "model = ChatOpenAI(\n",
    "    #api_key=OPENAI_API_KEY,\n",
    "    base_url=\"https://api.groq.com/openai/v1\",  # Groq API 엔드포인트\n",
    "    model=\"meta-llama/llama-4-scout-17b-16e-instruct\",\n",
    "    temperature=0  # 일관성을 위해 0으로 설정\n",
    ")\n",
    "\n",
    "# OutputFixingParser로 안정성 향상\n",
    "fixing_parser = OutputFixingParser.from_llm(parser=enumParser, llm=model)\n",
    "\n",
    "print(\"모델 및 파서 설정 완료\")\n",
    "\n",
    "# 테스트 텍스트\n",
    "texts = [\n",
    "    \"이 제품 정말 좋아요! 완전 만족스러워요.\",\n",
    "    \"서비스가 너무 느리고 불친절했습니다.\",\n",
    "    \"오늘은 비가 온다네요.\",\n",
    "    \"배송은 빠르지만 품질이 아쉽습니다.\",\n",
    "    \"최고의 경험이었습니다!\",\n",
    "    \"완전 실망했어요... 최악이에요\"\n",
    "]\n",
    "\n",
    "print(f\"테스트할 텍스트 {len(texts)}개 준비 완료\")"
   ]
  },
  {
   "cell_type": "code",
   "execution_count": null,
   "id": "ec1ca4b5",
   "metadata": {},
   "outputs": [],
   "source": [
    "# 안전한 감정 분석 함수 (에러 처리 포함)\n",
    "def safe_sentiment_analysis(text, use_fixing_parser=True):\n",
    "    \"\"\"안전한 감정 분석 함수 - 에러 처리 포함\"\"\"\n",
    "    try:\n",
    "        # 기본 체인 생성\n",
    "        chain = prompt | model | (fixing_parser if use_fixing_parser else parser)\n",
    "        \n",
    "        # 분석 실행\n",
    "        result = chain.invoke({\"text\": text})\n",
    "        return result, None\n",
    "        \n",
    "    except OutputParserException as e:\n",
    "        return None, f\"파싱 오류: {str(e)[:100]}...\"\n",
    "    except Exception as e:\n",
    "        return None, f\"일반 오류: {str(e)[:100]}...\"\n",
    "\n",
    "# 실제 감정 분석 실행 (API 키 필요)\n",
    "def run_sentiment_analysis():\n",
    "    \"\"\"실제 감정 분석 실행\"\"\"\n",
    "    print(\"=== 실제 감정 분석 결과 ===\")\n",
    "    \n",
    "    success_count = 0\n",
    "    total_count = len(texts)\n",
    "    \n",
    "    for i, text in enumerate(texts, 1):\n",
    "        print(f\"\\n{i}. 텍스트: {text}\")\n",
    "        \n",
    "        # OutputFixingParser 사용\n",
    "        result, error = safe_sentiment_analysis(text, use_fixing_parser=True)\n",
    "        \n",
    "        if result:\n",
    "            print(f\"   감정: {result.value} \")\n",
    "            success_count += 1\n",
    "        else:\n",
    "            print(f\"   오류: {error} \")\n",
    "            \n",
    "            # 기본 파서로 재시도\n",
    "            print(\"   기본 파서로 재시도...\")\n",
    "            result2, error2 = safe_sentiment_analysis(text, use_fixing_parser=False)\n",
    "            \n",
    "            if result2:\n",
    "                print(f\"   감정: {result2.value} (기본 파서 성공)\")\n",
    "                success_count += 1\n",
    "            else:\n",
    "                print(f\"   재시도 실패: {error2} \")\n",
    "    \n",
    "    print(f\"\\n=== 결과 요약 ===\")\n",
    "    print(f\"성공: {success_count}/{total_count} ({success_count/total_count*100:.1f}%)\")\n",
    "    print(f\"실패: {total_count-success_count}/{total_count}\")\n",
    "\n",
    "# 실제 분석 실행 (API 키가 있는 경우)\n",
    "try:\n",
    "    run_sentiment_analysis()\n",
    "except Exception as e:\n",
    "    print(\"API 키가 설정되지 않았거나 네트워크 오류:\")\n",
    "    print(\"실제 실행을 위해서는 OpenAI API 키를 설정하세요.\")\n",
    "    print(f\"오류 상세: {e}\")"
   ]
  },
  {
   "cell_type": "markdown",
   "id": "7927a6db",
   "metadata": {},
   "source": [
    "##### 문제 2-3: 학생 정보 구조화 시스템\n",
    "* 학생의 자유 형식 자기소개를 입력받아 이름, 나이, 전공, 취미 리스트, 목표를 구조화된 형태로 추출하는 시스템을 만드세요."
   ]
  },
  {
   "cell_type": "code",
   "execution_count": null,
   "id": "d68a4546",
   "metadata": {},
   "outputs": [],
   "source": []
  },
  {
   "cell_type": "markdown",
   "id": "4fc4a774",
   "metadata": {},
   "source": [
    "##### 문제 2-4 : 여행 계획 분석기\n",
    "* 여행 후기나 계획 텍스트를 입력받아 여행지, 기간, 예산, 추천도(1-5점), 주요 활동 리스트를 구조화된 형태로 추출하는 시스템을 만드세요."
   ]
  },
  {
   "cell_type": "code",
   "execution_count": null,
   "id": "dc66d4a2",
   "metadata": {},
   "outputs": [],
   "source": []
  }
 ],
 "metadata": {
  "kernelspec": {
   "display_name": "langchain-basic-kGdHTiMZ-py3.12",
   "language": "python",
   "name": "python3"
  },
  "language_info": {
   "codemirror_mode": {
    "name": "ipython",
    "version": 3
   },
   "file_extension": ".py",
   "mimetype": "text/x-python",
   "name": "python",
   "nbconvert_exporter": "python",
   "pygments_lexer": "ipython3",
   "version": "3.12.7"
  }
 },
 "nbformat": 4,
 "nbformat_minor": 5
}
