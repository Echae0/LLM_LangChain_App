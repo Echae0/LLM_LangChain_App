{
 "cells": [
  {
   "cell_type": "markdown",
   "id": "eb81169c",
   "metadata": {},
   "source": [
    "##### 문제 2-1 : 콤마 구분 리스트 파서 활용\n",
    "* 사용자가 관심있는 분야(예: \"음식\", \"스포츠\", \"영화\" 등)를 입력하면, 해당 분야와 관련된 한국의 유명한 장소나 활동 5가지를 콤마로 구분된 리스트로 출력하는 프로그램을 작성하세요."
   ]
  },
  {
   "cell_type": "code",
   "execution_count": 66,
   "id": "d37dd2fd",
   "metadata": {},
   "outputs": [
    {
     "name": "stdout",
     "output_type": "stream",
     "text": [
      "{'format_instructions': 'Your response should be a list of comma separated '\n",
      "                        'values, eg: `foo, bar, baz` or `foo,bar,baz`'}\n"
     ]
    }
   ],
   "source": [
    "from langchain_core.output_parsers import CommaSeparatedListOutputParser\n",
    "from langchain_core.prompts import PromptTemplate\n",
    "from langchain_openai import ChatOpenAI\n",
    "import csv\n",
    "from pprint import pprint\n",
    "\n",
    "# 콤마로 구분된 리스트 출력 파서 초기화\n",
    "output_parser = CommaSeparatedListOutputParser()\n",
    "\n",
    "# 출력 형식 지침 가져오기\n",
    "format_instructions = output_parser.get_format_instructions()\n",
    "\n",
    "# 프롬프트 템플릿 설정\n",
    "prompt = PromptTemplate(\n",
    "        template=\n",
    "        \"\"\"\n",
    "        {subject}와 관련된 한국의 유명한 장소나 활동 5가지를 콤마로 구분된 리스트로 나열해주세요.\n",
    "        각 항목은 특정 장소나 활동이나 음식을 나타내는 구체적인 이름이어야 합니다.\n",
    "        \n",
    "        예시:\n",
    "        입력: \"음식\"\n",
    "        출력: 명동 칼국수, 부산 돼지국밥 ...\n",
    "\n",
    "        입력: \"스포츠\"\n",
    "        출력: 잠실 야구장, 서울 월드컵 경기장 ...\n",
    "\n",
    "        {format_instructions}\"\"\",\n",
    "    input_variables=[\"subject\"],\n",
    "    partial_variables={\"format_instructions\": format_instructions},\n",
    ")\n",
    "pprint(prompt.partial_variables)"
   ]
  },
  {
   "cell_type": "code",
   "execution_count": 67,
   "id": "8a55fbda",
   "metadata": {},
   "outputs": [
    {
     "name": "stdout",
     "output_type": "stream",
     "text": [
      "음식 관련 목록:\n",
      "['종로 비빔밥', '광화문 닭볶음탕', '부산 개미집', '전주 한옥마을 순두부찌개', '대구 서문시장 치킨']\n"
     ]
    }
   ],
   "source": [
    "# 모델 설정\n",
    "model = ChatOpenAI(\n",
    "    base_url=\"https://api.groq.com/openai/v1\",  # Groq API 엔드포인트\n",
    "    model=\"meta-llama/llama-4-scout-17b-16e-instruct\",\n",
    "    temperature=0.2\n",
    ")\n",
    "\n",
    "# 프롬프트, 모델, 출력 파서를 연결하여 체인 생성\n",
    "chain = prompt | model | output_parser\n",
    "\n",
    "# \"음식\"에 대한 체인 호출 실행\n",
    "result = chain.invoke({\"subject\": \"음식\"})\n",
    "\n",
    "# 쉼표로 구분된 리스트 출력\n",
    "print(\"음식 관련 목록:\")\n",
    "print(result)"
   ]
  },
  {
   "cell_type": "code",
   "execution_count": null,
   "id": "68f575a9",
   "metadata": {},
   "outputs": [
    {
     "name": "stdout",
     "output_type": "stream",
     "text": [
      "영화 관련 목록:\n",
      "['부산 영화의 전당', 'CGV 홍대', '롯데시네마 월드몰', '한국 영화 박물관', '충무로 영화 거리']\n"
     ]
    }
   ],
   "source": [
    "# \"영화\"에 대한 체인 호출 실행\n",
    "result = chain.invoke({\"subject\": \"영화\"})\n",
    "\n",
    "# 쉼표로 구분된 리스트 출력\n",
    "print(\"영화 관련 목록:\")\n",
    "print(result)"
   ]
  },
  {
   "cell_type": "code",
   "execution_count": null,
   "id": "dccad5c6",
   "metadata": {},
   "outputs": [
    {
     "name": "stdout",
     "output_type": "stream",
     "text": [
      "스포츠 관련 목록:\n",
      "['잠실 야구장', '서울 월드컵 경기장', '부산 광안리 해수욕장(서핑)', '강원도 평창 스키장', '인천 영종도 골프장']\n"
     ]
    }
   ],
   "source": [
    "# \"스포츠\"에 대한 체인 호출 실행\n",
    "result = chain.invoke({\"subject\": \"스포츠츠\"})\n",
    "\n",
    "# 쉼표로 구분된 리스트 출력\n",
    "print(\"스포츠 관련 목록:\")\n",
    "print(result)"
   ]
  },
  {
   "cell_type": "markdown",
   "id": "a136bc5e",
   "metadata": {},
   "source": [
    "##### 문제 2-2 : 영화 리뷰 감정 분석기\n",
    "* 영화 리뷰 텍스트를 입력받아 감정을 \"긍정\", \"부정\", \"보통\" 중 하나로 분류하는 시스템을 만드세요."
   ]
  },
  {
   "cell_type": "code",
   "execution_count": 68,
   "id": "6ec9969b",
   "metadata": {},
   "outputs": [
    {
     "name": "stdout",
     "output_type": "stream",
     "text": [
      "감정 분류 출력 형식:\n",
      "Select one of the following options: 긍정, 부정, 중립\n",
      "input_variables=['text'] input_types={} partial_variables={'format_instructions': 'Select one of the following options: 긍정, 부정, 중립'} messages=[HumanMessagePromptTemplate(prompt=PromptTemplate(input_variables=['format_instructions', 'text'], input_types={}, partial_variables={}, template='\\n당신은 영화 리뷰 텍스트 감정 분석 전문가입니다.\\n다음 텍스트의 감정을 분석하고, 반드시 아래 세 가지 중 하나의 단어로만 답변하세요.\\n\\n텍스트: \"{text}\"\\n\\n{format_instructions}\\n\\n중요 규칙:\\n1. 반드시 \"긍정\", \"부정\", \"중립\" 중 하나의 단어만 출력하세요\\n2. 다른 설명이나 부가 설명을 추가하지 마세요\\n3. 이모지나 특수문자도 포함하지 마세요\\n4. 오직 하나의 단어만 출력하세요\\n\\n답변:'), additional_kwargs={})]\n"
     ]
    }
   ],
   "source": [
    "from langchain_openai import ChatOpenAI\n",
    "from langchain_core.prompts import ChatPromptTemplate\n",
    "from langchain.output_parsers import EnumOutputParser, OutputFixingParser\n",
    "from langchain.schema import OutputParserException\n",
    "\n",
    "from enum import Enum\n",
    "from pprint import pprint\n",
    "\n",
    "# 감정 클래스 정의 (Enum)\n",
    "class Sentiment(str, Enum):\n",
    "    POSITIVE = \"긍정\"\n",
    "    NEGATIVE = \"부정\"\n",
    "    NEUTRAL = \"중립\"\n",
    "\n",
    "# EnumOutputParser 초기화\n",
    "enumParser = EnumOutputParser(enum=Sentiment)\n",
    "format_instructions = enumParser.get_format_instructions()\n",
    "\n",
    "print(\"감정 분류 출력 형식:\")\n",
    "print(format_instructions)\n",
    "\n",
    "# 프롬프트 템플릿\n",
    "template = \"\"\"\n",
    "당신은 영화 리뷰 텍스트 감정 분석 전문가입니다.\n",
    "다음 텍스트의 감정을 분석하고, 반드시 아래 세 가지 중 하나의 단어로만 답변하세요.\n",
    "\n",
    "텍스트: \"{text}\"\n",
    "\n",
    "{format_instructions}\n",
    "\n",
    "중요 규칙:\n",
    "1. 반드시 \"긍정\", \"부정\", \"중립\" 중 하나의 단어만 출력하세요\n",
    "2. 다른 설명이나 부가 설명을 추가하지 마세요\n",
    "3. 이모지나 특수문자도 포함하지 마세요\n",
    "4. 오직 하나의 단어만 출력하세요\n",
    "\n",
    "답변:\"\"\"\n",
    "\n",
    "prompt = ChatPromptTemplate.from_template(template)\n",
    "prompt = prompt.partial(format_instructions=format_instructions)   \n",
    "print(prompt)"
   ]
  },
  {
   "cell_type": "code",
   "execution_count": 69,
   "id": "40797653",
   "metadata": {},
   "outputs": [
    {
     "name": "stdout",
     "output_type": "stream",
     "text": [
      "모델 및 파서 설정 완료\n",
      "테스트할 텍스트 8개 준비 완료\n"
     ]
    }
   ],
   "source": [
    "model = ChatOpenAI(\n",
    "    #api_key=OPENAI_API_KEY,\n",
    "    base_url=\"https://api.groq.com/openai/v1\",  # Groq API 엔드포인트\n",
    "    model=\"meta-llama/llama-4-scout-17b-16e-instruct\",\n",
    "    temperature=0  # 일관성을 위해 0으로 설정\n",
    ")\n",
    "\n",
    "# OutputFixingParser로 안정성 향상\n",
    "fixing_parser = OutputFixingParser.from_llm(parser=enumParser, llm=model)\n",
    "\n",
    "print(\"모델 및 파서 설정 완료\")\n",
    "\n",
    "# 테스트 텍스트\n",
    "texts = [\n",
    "        \"이 영화 정말 재미없어요. 시간 낭비였습니다.\",\n",
    "        \"배우들의 연기가 훌륭하고 스토리도 감동적이었어요!\",\n",
    "        \"그냥 무난한 영화였습니다. 나쁘지도 좋지도 않아요.\",\n",
    "        \"영상미가 뛰어나지만 스토리가 너무 난해했어요.\",\n",
    "        \"뻔한 클리셰 범벅에 지루하기 짝이 없었습니다. 비추천.\",\n",
    "        \"기대했던 것보다 훨씬 좋았어요! 반전도 신선하고 몰입감 최고.\",\n",
    "        \"가족끼리 보기 좋은 따뜻한 영화였습니다. 잔잔한 감동이 있네요.\",\n",
    "        \"사운드가 엉망이라 집중하기 힘들었어요. 내용은 그럭저럭이었지만.\"\n",
    "]\n",
    "\n",
    "print(f\"테스트할 텍스트 {len(texts)}개 준비 완료\")"
   ]
  },
  {
   "cell_type": "code",
   "execution_count": 70,
   "id": "ec1ca4b5",
   "metadata": {},
   "outputs": [
    {
     "name": "stdout",
     "output_type": "stream",
     "text": [
      "=== 실제 감정 분석 결과 ===\n",
      "\n",
      "1. 텍스트: 이 영화 정말 재미없어요. 시간 낭비였습니다.\n",
      "   감정: 부정 \n",
      "\n",
      "2. 텍스트: 배우들의 연기가 훌륭하고 스토리도 감동적이었어요!\n",
      "   감정: 긍정 \n",
      "\n",
      "3. 텍스트: 그냥 무난한 영화였습니다. 나쁘지도 좋지도 않아요.\n",
      "   감정: 중립 \n",
      "\n",
      "4. 텍스트: 영상미가 뛰어나지만 스토리가 너무 난해했어요.\n",
      "   감정: 중립 \n",
      "\n",
      "5. 텍스트: 뻔한 클리셰 범벅에 지루하기 짝이 없었습니다. 비추천.\n",
      "   감정: 부정 \n",
      "\n",
      "6. 텍스트: 기대했던 것보다 훨씬 좋았어요! 반전도 신선하고 몰입감 최고.\n",
      "   감정: 긍정 \n",
      "\n",
      "7. 텍스트: 가족끼리 보기 좋은 따뜻한 영화였습니다. 잔잔한 감동이 있네요.\n",
      "   감정: 긍정 \n",
      "\n",
      "8. 텍스트: 사운드가 엉망이라 집중하기 힘들었어요. 내용은 그럭저럭이었지만.\n",
      "   감정: 부정 \n",
      "\n",
      "=== 결과 요약 ===\n",
      "성공: 8/8 (100.0%)\n",
      "실패: 0/8\n"
     ]
    }
   ],
   "source": [
    "# 안전한 감정 분석 함수 (에러 처리 포함)\n",
    "def safe_sentiment_analysis(text, use_fixing_parser=True):\n",
    "    \"\"\"안전한 감정 분석 함수 - 에러 처리 포함\"\"\"\n",
    "    try:\n",
    "        # 기본 체인 생성\n",
    "        chain = prompt | model | (fixing_parser if use_fixing_parser else parser)\n",
    "        \n",
    "        # 분석 실행\n",
    "        result = chain.invoke({\"text\": text})\n",
    "        return result, None\n",
    "        \n",
    "    except OutputParserException as e:\n",
    "        return None, f\"파싱 오류: {str(e)[:100]}...\"\n",
    "    except Exception as e:\n",
    "        return None, f\"일반 오류: {str(e)[:100]}...\"\n",
    "\n",
    "# 실제 감정 분석 실행 (API 키 필요)\n",
    "def run_sentiment_analysis():\n",
    "    \"\"\"실제 감정 분석 실행\"\"\"\n",
    "    print(\"=== 실제 감정 분석 결과 ===\")\n",
    "    \n",
    "    success_count = 0\n",
    "    total_count = len(texts)\n",
    "    \n",
    "    for i, text in enumerate(texts, 1):\n",
    "        print(f\"\\n{i}. 텍스트: {text}\")\n",
    "        \n",
    "        # OutputFixingParser 사용\n",
    "        result, error = safe_sentiment_analysis(text, use_fixing_parser=True)\n",
    "        \n",
    "        if result:\n",
    "            print(f\"   감정: {result.value} \")\n",
    "            success_count += 1\n",
    "        else:\n",
    "            print(f\"   오류: {error} \")\n",
    "            \n",
    "            # 기본 파서로 재시도\n",
    "            print(\"   기본 파서로 재시도...\")\n",
    "            result2, error2 = safe_sentiment_analysis(text, use_fixing_parser=False)\n",
    "            \n",
    "            if result2:\n",
    "                print(f\"   감정: {result2.value} (기본 파서 성공)\")\n",
    "                success_count += 1\n",
    "            else:\n",
    "                print(f\"   재시도 실패: {error2} \")\n",
    "    \n",
    "    print(f\"\\n=== 결과 요약 ===\")\n",
    "    print(f\"성공: {success_count}/{total_count} ({success_count/total_count*100:.1f}%)\")\n",
    "    print(f\"실패: {total_count-success_count}/{total_count}\")\n",
    "\n",
    "# 실제 분석 실행 (API 키가 있는 경우)\n",
    "try:\n",
    "    run_sentiment_analysis()\n",
    "except Exception as e:\n",
    "    print(\"API 키가 설정되지 않았거나 네트워크 오류:\")\n",
    "    print(\"실제 실행을 위해서는 OpenAI API 키를 설정하세요.\")\n",
    "    print(f\"오류 상세: {e}\")"
   ]
  },
  {
   "cell_type": "markdown",
   "id": "7927a6db",
   "metadata": {},
   "source": [
    "##### 문제 2-3: 학생 정보 구조화 시스템\n",
    "* 학생의 자유 형식 자기소개를 입력받아 이름, 나이, 전공, 취미 리스트, 목표를 구조화된 형태로 추출하는 시스템을 만드세요."
   ]
  },
  {
   "cell_type": "code",
   "execution_count": 102,
   "id": "d68a4546",
   "metadata": {},
   "outputs": [
    {
     "name": "stdout",
     "output_type": "stream",
     "text": [
      "input_variables=['student_introduction_text'] input_types={} partial_variables={'format_instructions': 'The output should be formatted as a JSON instance that conforms to the JSON schema below.\\n\\nAs an example, for the schema {\"properties\": {\"foo\": {\"title\": \"Foo\", \"description\": \"a list of strings\", \"type\": \"array\", \"items\": {\"type\": \"string\"}}}, \"required\": [\"foo\"]}\\nthe object {\"foo\": [\"bar\", \"baz\"]} is a well-formatted instance of the schema. The object {\"properties\": {\"foo\": [\"bar\", \"baz\"]}} is not well-formatted.\\n\\nHere is the output schema:\\n```\\n{\"properties\": {\"name\": {\"description\": \"학생의 이름\", \"title\": \"Name\", \"type\": \"string\"}, \"age\": {\"description\": \"학생의 나이\", \"title\": \"Age\", \"type\": \"integer\"}, \"major\": {\"description\": \"학생의 전공\", \"title\": \"Major\", \"type\": \"string\"}, \"hobbies\": {\"description\": \"학생의 취미 리스트\", \"items\": {\"type\": \"string\"}, \"title\": \"Hobbies\", \"type\": \"array\"}, \"goal\": {\"description\": \"학생의 목표\", \"title\": \"Goal\", \"type\": \"string\"}}, \"required\": [\"name\", \"age\", \"major\", \"hobbies\", \"goal\"]}\\n```'} messages=[HumanMessagePromptTemplate(prompt=PromptTemplate(input_variables=['format_instructions', 'student_introduction_text'], input_types={}, partial_variables={}, template='\\n제공된 학생의 자기소개 텍스트에서 이름, 나이, 전공, 취미 리스트, 목표를 추출하여 JSON 형식으로 반환하세요.\\n취미는 여러 개일 수 있으며, 콤마로 구분된 리스트 형태로 추출해야 합니다.\\n\\n요청: \"{student_introduction_text}\"\\n\\n{format_instructions}\\n'), additional_kwargs={})]\n"
     ]
    }
   ],
   "source": [
    "from langchain_core.prompts import ChatPromptTemplate\n",
    "from langchain.output_parsers import PydanticOutputParser\n",
    "\n",
    "from pydantic import BaseModel, Field\n",
    "from typing import List\n",
    "\n",
    "# 출력 구조를 정의하는 Pydantic 모델\n",
    "class StudentInformation(BaseModel):\n",
    "    name: str = Field(description=\"학생의 이름\")\n",
    "    age: int = Field(description=\"학생의 나이\")\n",
    "    major: str = Field(description=\"학생의 전공\")\n",
    "    hobbies: List[str] = Field(description=\"학생의 취미 리스트\")\n",
    "    goal: str = Field(description=\"학생의 목표\")\n",
    "    \n",
    "# Pydantic 출력 파서 초기화\n",
    "parser = PydanticOutputParser(pydantic_object=StudentInformation)\n",
    "\n",
    "# 프롬프트 템플릿 설정\n",
    "template = \"\"\"\n",
    "제공된 학생의 자기소개 텍스트에서 이름, 나이, 전공, 취미 리스트, 목표를 추출하여 JSON 형식으로 반환하세요.\n",
    "취미는 여러 개일 수 있으며, 콤마로 구분된 리스트 형태로 추출해야 합니다.\n",
    "\n",
    "요청: \"{student_introduction_text}\"\n",
    "\n",
    "{format_instructions}\n",
    "\"\"\"\n",
    "\n",
    "prompt = ChatPromptTemplate.from_template(template)\n",
    "\n",
    "# 파서의 지시사항을 프롬프트에 주입\n",
    "prompt = prompt.partial(\n",
    "    format_instructions=parser.get_format_instructions()\n",
    ")\n",
    "print(prompt)"
   ]
  },
  {
   "cell_type": "code",
   "execution_count": 103,
   "id": "f5718b43",
   "metadata": {},
   "outputs": [
    {
     "name": "stdout",
     "output_type": "stream",
     "text": [
      "name: 김민수\n",
      "age: 22\n",
      "major: 컴퓨터공학\n",
      "hobbies: 게임하기, 영화보기, 코딩\n",
      "goal: 훌륭한 개발자가 되는 것\n"
     ]
    }
   ],
   "source": [
    "model = ChatOpenAI(\n",
    "    base_url=\"https://api.groq.com/openai/v1\",  # Groq API 엔드포인트\n",
    "    model=\"meta-llama/llama-4-scout-17b-16e-instruct\",\n",
    "    temperature=0.7\n",
    ")\n",
    "\n",
    "# 체인 구성 및 실행\n",
    "student_introduction_text =  \"안녕하세요! 저는 김민수이고 22살입니다. 컴퓨터공학을 전공하고 있어요. 취미로는 게임하기, 영화보기, 코딩을 좋아합니다. 앞으로 훌륭한 개발자가 되는 것이 목표입니다.\"\n",
    "chain = prompt | model | parser\n",
    "output = chain.invoke({\"student_introduction_text\": student_introduction_text})\n",
    "\n",
    "# 결과 출력\n",
    "print(f\"name: {output.name}\")\n",
    "print(f\"age: {output.age}\")\n",
    "print(f\"major: {output.major}\")\n",
    "print(f\"hobbies: {', '.join(output.hobbies)}\")\n",
    "print(f\"goal: {output.goal}\")"
   ]
  },
  {
   "cell_type": "markdown",
   "id": "4fc4a774",
   "metadata": {},
   "source": [
    "##### 문제 2-4 : 여행 계획 분석기\n",
    "* 여행 후기나 계획 텍스트를 입력받아 여행지, 기간, 예산, 추천도(1-5점), 주요 활동 리스트를 구조화된 형태로 추출하는 시스템을 만드세요."
   ]
  },
  {
   "cell_type": "code",
   "execution_count": 109,
   "id": "dc66d4a2",
   "metadata": {},
   "outputs": [
    {
     "name": "stdout",
     "output_type": "stream",
     "text": [
      "출력 형식 지시사항:\n",
      "The output should be a markdown code snippet formatted in the following schema, including the leading and trailing \"```json\" and \"```\":\n",
      "\n",
      "```json\n",
      "{\n",
      "\t\"destination\": string  // 여행 후기나 계획의 여행지\n",
      "\t\"duration\": string  // 여행의 기간\n",
      "\t\"budget\": string  // 여행의 예산\n",
      "\t\"rating\": string  // 5점 만점에서 예상 추천도\n",
      "\t\"activities\": string  // 언급된 주요 활동을  JSON 배열(리스트) 형태로 출력\n",
      "}\n",
      "```\n"
     ]
    }
   ],
   "source": [
    "from langchain_openai import ChatOpenAI\n",
    "from langchain_core.prompts import ChatPromptTemplate\n",
    "from langchain.output_parsers import StructuredOutputParser, ResponseSchema\n",
    "\n",
    "from pprint import pprint\n",
    "\n",
    "# 출력 구조 정의 (여행지, 기간, 예산, 추천도(1~5점), 주요 활동 리스트)\n",
    "response_schemas = [\n",
    "    ResponseSchema(name=\"destination\", description=\"여행 후기나 계획의 여행지\"),\n",
    "    ResponseSchema(name=\"duration\", description=\"여행의 기간\"),\n",
    "    ResponseSchema(name=\"budget\", description=\"여행의 예산\"),\n",
    "    ResponseSchema(name=\"rating\", description=\"5점 만점에서 예상 추천도\"),\n",
    "    ResponseSchema(name=\"activities\", description=\"언급된 주요 활동을  JSON 배열(리스트) 형태로 출력\")    \n",
    "]\n",
    "\n",
    "#파서 초기화\n",
    "parser = StructuredOutputParser.from_response_schemas(response_schemas)\n",
    "format_instructions = parser.get_format_instructions()\n",
    "\n",
    "print(\"출력 형식 지시사항:\")\n",
    "print(format_instructions)\n",
    "\n",
    "# 프롬프트 템플릿\n",
    "template = \"\"\"\n",
    "다음 여행 후기나 계획 텍스트를 분석하세요. 리뷰 내용: {review}\n",
    "\n",
    "{format_instructions}\n",
    "\"\"\"\n",
    "\n",
    "prompt = ChatPromptTemplate.from_template(template)\n",
    "prompt = prompt.partial(format_instructions=format_instructions)"
   ]
  },
  {
   "cell_type": "code",
   "execution_count": null,
   "id": "01059e51",
   "metadata": {},
   "outputs": [
    {
     "name": "stdout",
     "output_type": "stream",
     "text": [
      "===== 분석 결과 =====\n",
      "{'activities': ['해운대에서 바다구경', '자갈치시장에서 회 먹기', '감천문화마을 구경'],\n",
      " 'budget': '총30만원',\n",
      " 'destination': '부산',\n",
      " 'duration': '2박3일',\n",
      " 'rating': '4점'}\n"
     ]
    }
   ],
   "source": [
    "model = ChatOpenAI(\n",
    "    base_url=\"https://api.groq.com/openai/v1\",  # Groq API 엔드포인트\n",
    "    model=\"meta-llama/llama-4-scout-17b-16e-instruct\",\n",
    "    temperature=0.7\n",
    ")\n",
    "\n",
    "# 테스트 리뷰 데이터\n",
    "review = \"\"\"\n",
    "지난 주에 부산으로 2박 3일 여행을 다녀왔어요. \n",
    "총 30만원 정도 썼는데 해운대에서 바다구경하고, 자갈치시장에서 회 먹고, 감천문화마을도 구경했어요. \n",
    "정말 만족스러운 여행이었습니다. 5점 만점에 4점 정도 줄 수 있을 것 같아요.\n",
    "\n",
    "\"\"\"\n",
    "\n",
    "# 체인 실행\n",
    "chain = prompt | model | parser\n",
    "\n",
    "output = chain.invoke({\"review\": review})\n",
    "\n",
    "# 결과 출력 (Pretty Print)\n",
    "print(\"===== 분석 결과 =====\")\n",
    "pprint(output) #key를 알파벳 순서로 정렬하게 됨."
   ]
  }
 ],
 "metadata": {
  "kernelspec": {
   "display_name": "langchain-basic-kGdHTiMZ-py3.12",
   "language": "python",
   "name": "python3"
  },
  "language_info": {
   "codemirror_mode": {
    "name": "ipython",
    "version": 3
   },
   "file_extension": ".py",
   "mimetype": "text/x-python",
   "name": "python",
   "nbconvert_exporter": "python",
   "pygments_lexer": "ipython3",
   "version": "3.12.7"
  }
 },
 "nbformat": 4,
 "nbformat_minor": 5
}
