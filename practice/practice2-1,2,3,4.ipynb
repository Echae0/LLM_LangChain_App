{
 "cells": [
  {
   "cell_type": "markdown",
   "id": "eb81169c",
   "metadata": {},
   "source": [
    "##### 문제 2-1 : 콤마 구분 리스트 파서 활용\n",
    "* 사용자가 관심있는 분야(예: \"음식\", \"스포츠\", \"영화\" 등)를 입력하면, 해당 분야와 관련된 한국의 유명한 장소나 활동 5가지를 콤마로 구분된 리스트로 출력하는 프로그램을 작성하세요."
   ]
  },
  {
   "cell_type": "code",
   "execution_count": null,
   "id": "d37dd2fd",
   "metadata": {
    "vscode": {
     "languageId": "plaintext"
    }
   },
   "outputs": [],
   "source": []
  },
  {
   "cell_type": "markdown",
   "id": "a136bc5e",
   "metadata": {},
   "source": [
    "##### 문제 2-2 : 영화 리뷰 감정 분석기\n",
    "* 영화 리뷰 텍스트를 입력받아 감정을 \"긍정\", \"부정\", \"보통\" 중 하나로 분류하는 시스템을 만드세요."
   ]
  },
  {
   "cell_type": "code",
   "execution_count": null,
   "id": "6ec9969b",
   "metadata": {
    "vscode": {
     "languageId": "plaintext"
    }
   },
   "outputs": [],
   "source": []
  },
  {
   "cell_type": "markdown",
   "id": "7927a6db",
   "metadata": {},
   "source": [
    "##### 문제 2-3: 학생 정보 구조화 시스템\n",
    "* 학생의 자유 형식 자기소개를 입력받아 이름, 나이, 전공, 취미 리스트, 목표를 구조화된 형태로 추출하는 시스템을 만드세요."
   ]
  },
  {
   "cell_type": "code",
   "execution_count": null,
   "id": "d68a4546",
   "metadata": {
    "vscode": {
     "languageId": "plaintext"
    }
   },
   "outputs": [],
   "source": []
  },
  {
   "cell_type": "markdown",
   "id": "4fc4a774",
   "metadata": {},
   "source": [
    "##### 문제 2-4 : 여행 계획 분석기\n",
    "* 여행 후기나 계획 텍스트를 입력받아 여행지, 기간, 예산, 추천도(1-5점), 주요 활동 리스트를 구조화된 형태로 추출하는 시스템을 만드세요."
   ]
  },
  {
   "cell_type": "code",
   "execution_count": null,
   "id": "dc66d4a2",
   "metadata": {
    "vscode": {
     "languageId": "plaintext"
    }
   },
   "outputs": [],
   "source": []
  }
 ],
 "metadata": {
  "language_info": {
   "name": "python"
  }
 },
 "nbformat": 4,
 "nbformat_minor": 5
}
